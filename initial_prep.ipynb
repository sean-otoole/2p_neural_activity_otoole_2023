{
  "nbformat": 4,
  "nbformat_minor": 0,
  "metadata": {
    "colab": {
      "provenance": [],
      "authorship_tag": "ABX9TyORlzd5Ya/BqXNuvKlCBRGK",
      "include_colab_link": true
    },
    "kernelspec": {
      "name": "python3",
      "display_name": "Python 3"
    },
    "language_info": {
      "name": "python"
    }
  },
  "cells": [
    {
      "cell_type": "markdown",
      "metadata": {
        "id": "view-in-github",
        "colab_type": "text"
      },
      "source": [
        "<a href=\"https://colab.research.google.com/github/sean-otoole/2p_neural_activity_otoole_2023/blob/main/initial_prep.ipynb\" target=\"_parent\"><img src=\"https://colab.research.google.com/assets/colab-badge.svg\" alt=\"Open In Colab\"/></a>"
      ]
    },
    {
      "cell_type": "code",
      "execution_count": 2,
      "metadata": {
        "colab": {
          "base_uri": "https://localhost:8080/"
        },
        "id": "dzun84G58FSZ",
        "outputId": "283fed7b-4987-4d11-d03f-3ce3e787401b"
      },
      "outputs": [
        {
          "output_type": "stream",
          "name": "stdout",
          "text": [
            "Mounted at /content/drive\n"
          ]
        }
      ],
      "source": [
        "import os\n",
        "\n",
        "from google.colab import drive\n",
        "drive.mount('/content/drive')\n",
        "\n",
        "os.chdir(\"/content/drive/MyDrive/iob_interview_prep\")\n",
        "\n",
        "!pwd"
      ]
    },
    {
      "cell_type": "code",
      "source": [
        "!curl -L https://datasets.cellxgene.cziscience.com/45015077-9d98-467d-a0ff-55d04e7e47e8.h5ad -o /content/drive/MyDrive/iob_interview_prep/human_retina.h5ad"
      ],
      "metadata": {
        "colab": {
          "base_uri": "https://localhost:8080/"
        },
        "id": "Welb6Jf_9vwx",
        "outputId": "0fcc10e0-dbfd-44ad-898c-74812b760218"
      },
      "execution_count": 9,
      "outputs": [
        {
          "output_type": "stream",
          "name": "stdout",
          "text": [
            "  % Total    % Received % Xferd  Average Speed   Time    Time     Time  Current\n",
            "                                 Dload  Upload   Total   Spent    Left  Speed\n",
            "100 17.6G  100 17.6G    0     0  40.8M      0  0:07:23  0:07:23 --:--:-- 44.9M\n"
          ]
        }
      ]
    },
    {
      "cell_type": "code",
      "source": [
        "# multi omics data from \"Single Cell Multiome Atlas of the Human Fetal Retina\"\n",
        "# from here: https://www.ncbi.nlm.nih.gov/geo/query/acc.cgi?acc=GSE268630\n",
        "\n",
        "# single cell adult atlas from: \"A multi-omics atlas of the human retina at single-cell resolution\"\n",
        "# data from here: \"https://explore.data.humancellatlas.org/projects/9c20a245-f2c0-43ae-82c9-2232ec6b594f\"\n",
        "# downloaded here: \"https://cellxgene.cziscience.com/collections/af893e86-8e9f-41f1-a474-ef05359b1fb7\""
      ],
      "metadata": {
        "id": "JoQwsfuO9zij"
      },
      "execution_count": 10,
      "outputs": []
    },
    {
      "cell_type": "code",
      "source": [],
      "metadata": {
        "id": "GxehZkRjNYtZ"
      },
      "execution_count": null,
      "outputs": []
    }
  ]
}